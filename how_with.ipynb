{
 "cells": [
  {
   "cell_type": "markdown",
   "metadata": {
    "colab_type": "text",
    "id": "kR-4eNdK6lYS"
   },
   "source": [
    "tensorflow\n",
    "=============\n",
    "\n",
    "Hogy megy a `with`? Amit benne létrehozunk, az (vmi rejtélyes módon) az aktuális gráfhoz rendelődik."
   ]
  },
  {
   "cell_type": "code",
   "execution_count": 17,
   "metadata": {
    "cellView": "both",
    "colab": {
     "autoexec": {
      "startup": false,
      "wait_interval": 0
     }
    },
    "colab_type": "code",
    "collapsed": true,
    "id": "JLpLa8Jt7Vu4"
   },
   "outputs": [],
   "source": [
    "from __future__ import print_function\n",
    "import numpy as np\n",
    "import tensorflow as tf"
   ]
  },
  {
   "cell_type": "code",
   "execution_count": 18,
   "metadata": {
    "cellView": "both",
    "colab": {
     "autoexec": {
      "startup": false,
      "wait_interval": 0
     }
    },
    "colab_type": "code",
    "collapsed": true,
    "id": "Nfv39qvtvOl_"
   },
   "outputs": [],
   "source": [
    "x = tf.constant(13)\n",
    "\n",
    "g1 = tf.Graph()\n",
    "\n",
    "with g1.as_default():\n",
    "    y = tf.constant(5)\n",
    "\n",
    "g2 = tf.Graph()\n",
    "\n",
    "with g2.as_default():\n",
    "    y = tf.constant(9)"
   ]
  },
  {
   "cell_type": "markdown",
   "metadata": {},
   "source": [
    "**Üzenet:** A `with g.as_default()` lényege, hogy a benne lévő tf utasítások az adott `g` gráfot építik (a tf vmi trükkel hozzárendeli őket az adott gráfhoz). Fent `x` és `y` valóban globális változó, de a fontosabb az, hogy melyik tf gráf elemei. `y`-t `g2`-ben felülírom, így `g2`-nek lesz `y` eleme, `g1`-nek meg nem! `x` egyik gráfnak se eleme, úh gondolom nem sok haszna van. :)\n",
    "\n",
    "."
   ]
  },
  {
   "cell_type": "markdown",
   "metadata": {},
   "source": [
    "Szóval, ha esetleg több gráffal dolgozunk, akkor \"meg kell jegyezni\", hogy mi melyik gráfnak az eleme."
   ]
  },
  {
   "cell_type": "code",
   "execution_count": 19,
   "metadata": {
    "cellView": "both",
    "colab": {
     "autoexec": {
      "startup": false,
      "wait_interval": 0
     },
     "output_extras": [
      {
       "item_id": 9
      }
     ]
    },
    "colab_type": "code",
    "collapsed": false,
    "executionInfo": {
     "elapsed": 57454,
     "status": "ok",
     "timestamp": 1449847994134,
     "user": {
      "color": "",
      "displayName": "",
      "isAnonymous": false,
      "isMe": true,
      "permissionId": "",
      "photoUrl": "",
      "sessionId": "0",
      "userId": ""
     },
     "user_tz": 480
    },
    "id": "z2cjdenH869W",
    "outputId": "4c037ba1-b526-4d8e-e632-91e2a0333267"
   },
   "outputs": [
    {
     "name": "stdout",
     "output_type": "stream",
     "text": [
      "x in g2?\n",
      "Fetch argument <tf.Tensor 'Const_5:0' shape=() dtype=int32> cannot be interpreted as a Tensor. (Tensor Tensor(\"Const_5:0\", shape=(), dtype=int32) is not an element of this graph.)\n",
      "\n",
      "y in g2?\n",
      "9\n",
      "\n",
      "x in g1?\n",
      "Fetch argument <tf.Tensor 'Const_5:0' shape=() dtype=int32> cannot be interpreted as a Tensor. (Tensor Tensor(\"Const_5:0\", shape=(), dtype=int32) is not an element of this graph.)\n",
      "\n",
      "y in g1?\n",
      "Fetch argument <tf.Tensor 'Const:0' shape=() dtype=int32> cannot be interpreted as a Tensor. (Tensor Tensor(\"Const:0\", shape=(), dtype=int32) is not an element of this graph.)\n",
      "\n"
     ]
    }
   ],
   "source": [
    "with tf.Session(graph=g2) as session:\n",
    "    print(\"x in g2?\")\n",
    "    try:\n",
    "        print(session.run(x))\n",
    "    except ValueError as e:\n",
    "        print(e)\n",
    "    print()\n",
    "    print(\"y in g2?\")\n",
    "    try:\n",
    "        print(session.run(y))\n",
    "    except ValueError as e:\n",
    "        print(e)\n",
    "    print()\n",
    "\n",
    "with tf.Session(graph=g1) as session:\n",
    "    print(\"x in g1?\")\n",
    "    try:\n",
    "        print(session.run(x))\n",
    "    except ValueError as e:\n",
    "        print(e)\n",
    "    print()\n",
    "    print(\"y in g1?\")\n",
    "    try:\n",
    "        print(session.run(y))\n",
    "    except ValueError as e:\n",
    "        print(e)\n",
    "    print()\n",
    "    "
   ]
  },
  {
   "cell_type": "code",
   "execution_count": null,
   "metadata": {
    "collapsed": true
   },
   "outputs": [],
   "source": []
  }
 ],
 "metadata": {
  "colab": {
   "default_view": {},
   "name": "2_fullyconnected.ipynb",
   "provenance": [],
   "version": "0.3.2",
   "views": {}
  },
  "kernelspec": {
   "display_name": "Python 2",
   "language": "python",
   "name": "python2"
  },
  "language_info": {
   "codemirror_mode": {
    "name": "ipython",
    "version": 2
   },
   "file_extension": ".py",
   "mimetype": "text/x-python",
   "name": "python",
   "nbconvert_exporter": "python",
   "pygments_lexer": "ipython2",
   "version": "2.7.9"
  }
 },
 "nbformat": 4,
 "nbformat_minor": 0
}
