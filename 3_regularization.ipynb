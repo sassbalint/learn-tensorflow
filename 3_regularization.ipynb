{
 "cells": [
  {
   "cell_type": "markdown",
   "metadata": {
    "colab_type": "text",
    "id": "kR-4eNdK6lYS"
   },
   "source": [
    "Deep Learning\n",
    "=============\n",
    "\n",
    "Assignment 3\n",
    "------------\n",
    "\n",
    "Previously in `2_fullyconnected.ipynb`, you trained a logistic regression and a neural network model.\n",
    "\n",
    "The goal of this assignment is to explore regularization techniques."
   ]
  },
  {
   "cell_type": "code",
   "execution_count": 1,
   "metadata": {
    "cellView": "both",
    "colab": {
     "autoexec": {
      "startup": false,
      "wait_interval": 0
     }
    },
    "colab_type": "code",
    "collapsed": true,
    "id": "JLpLa8Jt7Vu4"
   },
   "outputs": [],
   "source": [
    "# These are all the modules we'll be using later. Make sure you can import them\n",
    "# before proceeding further.\n",
    "from __future__ import print_function\n",
    "import numpy as np\n",
    "import tensorflow as tf\n",
    "from six.moves import cPickle as pickle"
   ]
  },
  {
   "cell_type": "markdown",
   "metadata": {
    "colab_type": "text",
    "id": "1HrCK6e17WzV"
   },
   "source": [
    "First reload the data we generated in _notmist.ipynb_."
   ]
  },
  {
   "cell_type": "code",
   "execution_count": 2,
   "metadata": {
    "cellView": "both",
    "colab": {
     "autoexec": {
      "startup": false,
      "wait_interval": 0
     },
     "output_extras": [
      {
       "item_id": 1
      }
     ]
    },
    "colab_type": "code",
    "collapsed": false,
    "executionInfo": {
     "elapsed": 11777,
     "status": "ok",
     "timestamp": 1449849322348,
     "user": {
      "color": "",
      "displayName": "",
      "isAnonymous": false,
      "isMe": true,
      "permissionId": "",
      "photoUrl": "",
      "sessionId": "0",
      "userId": ""
     },
     "user_tz": 480
    },
    "id": "y3-cj1bpmuxc",
    "outputId": "e03576f1-ebbe-4838-c388-f1777bcc9873"
   },
   "outputs": [
    {
     "name": "stdout",
     "output_type": "stream",
     "text": [
      "Training set (200000, 28, 28) (200000,)\n",
      "Validation set (10000, 28, 28) (10000,)\n",
      "Test set (10000, 28, 28) (10000,)\n"
     ]
    }
   ],
   "source": [
    "pickle_file = 'notMNIST.pickle'\n",
    "\n",
    "with open(pickle_file, 'rb') as f:\n",
    "    save = pickle.load(f)\n",
    "    train_dataset = save['train_dataset']\n",
    "    train_labels = save['train_labels']\n",
    "    valid_dataset = save['valid_dataset']\n",
    "    valid_labels = save['valid_labels']\n",
    "    test_dataset = save['test_dataset']\n",
    "    test_labels = save['test_labels']\n",
    "    del save  # hint to help gc free up memory\n",
    "    \n",
    "    print('Training set', train_dataset.shape, train_labels.shape)\n",
    "    print('Validation set', valid_dataset.shape, valid_labels.shape)\n",
    "    print('Test set', test_dataset.shape, test_labels.shape)"
   ]
  },
  {
   "cell_type": "markdown",
   "metadata": {
    "colab_type": "text",
    "id": "L7aHrm6nGDMB"
   },
   "source": [
    "Reformat into a shape that's more adapted to the models we're going to train:\n",
    "- data as a flat matrix,\n",
    "- labels as float 1-hot encodings."
   ]
  },
  {
   "cell_type": "code",
   "execution_count": 3,
   "metadata": {
    "cellView": "both",
    "colab": {
     "autoexec": {
      "startup": false,
      "wait_interval": 0
     },
     "output_extras": [
      {
       "item_id": 1
      }
     ]
    },
    "colab_type": "code",
    "collapsed": false,
    "executionInfo": {
     "elapsed": 11728,
     "status": "ok",
     "timestamp": 1449849322356,
     "user": {
      "color": "",
      "displayName": "",
      "isAnonymous": false,
      "isMe": true,
      "permissionId": "",
      "photoUrl": "",
      "sessionId": "0",
      "userId": ""
     },
     "user_tz": 480
    },
    "id": "IRSyYiIIGIzS",
    "outputId": "3f8996ee-3574-4f44-c953-5c8a04636582"
   },
   "outputs": [
    {
     "name": "stdout",
     "output_type": "stream",
     "text": [
      "Training set (200000, 784) (200000, 10)\n",
      "Validation set (10000, 784) (10000, 10)\n",
      "Test set (10000, 784) (10000, 10)\n"
     ]
    }
   ],
   "source": [
    "image_size = 28\n",
    "num_labels = 10\n",
    "\n",
    "def reformat(dataset, labels):\n",
    "    dataset = dataset.reshape((-1, image_size * image_size)).astype(np.float32)\n",
    "    # Map 2 to [0.0, 1.0, 0.0 ...], 3 to [0.0, 0.0, 1.0 ...]\n",
    "    labels = (np.arange(num_labels) == labels[:,None]).astype(np.float32)\n",
    "    return dataset, labels\n",
    "\n",
    "train_dataset, train_labels = reformat(train_dataset, train_labels)\n",
    "valid_dataset, valid_labels = reformat(valid_dataset, valid_labels)\n",
    "test_dataset, test_labels = reformat(test_dataset, test_labels)\n",
    "\n",
    "print('Training set', train_dataset.shape, train_labels.shape)\n",
    "print('Validation set', valid_dataset.shape, valid_labels.shape)\n",
    "print('Test set', test_dataset.shape, test_labels.shape)"
   ]
  },
  {
   "cell_type": "code",
   "execution_count": 4,
   "metadata": {
    "cellView": "both",
    "colab": {
     "autoexec": {
      "startup": false,
      "wait_interval": 0
     }
    },
    "colab_type": "code",
    "collapsed": true,
    "id": "RajPLaL_ZW6w"
   },
   "outputs": [],
   "source": [
    "def accuracy(predictions, labels):\n",
    "    return (100.0 * np.sum(np.argmax(predictions, 1) == np.argmax(labels, 1)) / predictions.shape[0])"
   ]
  },
  {
   "cell_type": "markdown",
   "metadata": {
    "colab_type": "text",
    "id": "sgLbUAQ1CW-1"
   },
   "source": [
    "---\n",
    "Problem 1\n",
    "---------\n",
    "\n",
    "Introduce and tune L2 regularization for both logistic and neural network models. Remember that L2 amounts to adding a penalty on the norm of the weights to the loss. In TensorFlow, you can compute the L2 loss for a tensor `t` using `nn.l2_loss(t)`. The right amount of regularization should improve your validation / test accuracy.\n",
    "\n",
    "---"
   ]
  },
  {
   "cell_type": "code",
   "execution_count": 61,
   "metadata": {
    "collapsed": false
   },
   "outputs": [],
   "source": [
    "batch_size = 128\n",
    "hidden_level_size = 1024\n",
    "\n",
    "graph = tf.Graph()\n",
    "with graph.as_default():\n",
    "\n",
    "    tf_train_dataset = tf.placeholder(tf.float32,\n",
    "                                      shape=(batch_size, image_size * image_size))\n",
    "    tf_train_labels = tf.placeholder(tf.float32, shape=(batch_size, num_labels))\n",
    "    tf_valid_dataset = tf.constant(valid_dataset)\n",
    "    tf_test_dataset = tf.constant(test_dataset)\n",
    "  \n",
    "    w1 = tf.Variable(tf.truncated_normal([image_size * image_size, hidden_level_size]))\n",
    "    b1 = tf.Variable(tf.zeros([hidden_level_size]))\n",
    "\n",
    "    w2 = tf.Variable(tf.truncated_normal([hidden_level_size, num_labels]))\n",
    "    b2 = tf.Variable(tf.zeros([num_labels]))\n",
    "    \n",
    "    # 2 layer :)\n",
    "    logits = tf.matmul(tf.nn.relu(tf.matmul(tf_train_dataset, w1) + b1), w2) + b2\n",
    "    \n",
    "    # original loss\n",
    "    #loss = tf.reduce_mean(tf.nn.softmax_cross_entropy_with_logits(logits, tf_train_labels))\n",
    "    # -> 88%;89%;89.3%;89.1%\n",
    "    #\n",
    "    # new loss with L2 regularization\n",
    "    #  * ha csak w1-re L2-zünk: 0.01 -> 91%;89%;90.7%;92.0%! :)\n",
    "    #    (0.5 -> 71% ; 0.1 -> 78% ; 0.05 -> 86%)\n",
    "    #  * ha w1 és w2-re is L2: 0.05;0.05 -> 91.6%;91.6%;91.7%! :)\n",
    "    #    (0.01;0.01 -> 90.4%;90.2%)\n",
    "    l2_weight_beta_w1 = 0.005\n",
    "    l2_weight_beta_w2 = 0.005\n",
    "    loss = (\n",
    "        tf.reduce_mean(tf.nn.softmax_cross_entropy_with_logits(logits,tf_train_labels))\n",
    "        + l2_weight_beta_w1 * tf.nn.l2_loss(w1)\n",
    "        + l2_weight_beta_w2 * tf.nn.l2_loss(w2)\n",
    "    )\n",
    "    # XXX meta-optimalizálót csinálni az l2_weight_beta -ra hogy lehetne? :)\n",
    "    \n",
    "    optimizer = tf.train.GradientDescentOptimizer(0.5).minimize(loss)\n",
    "  \n",
    "    train_prediction = tf.nn.softmax(logits)\n",
    "    valid_prediction = tf.nn.softmax(tf.matmul(tf.nn.relu(tf.matmul(tf_valid_dataset, w1) + b1), w2) + b2)\n",
    "    test_prediction = tf.nn.softmax(tf.matmul(tf.nn.relu(tf.matmul(tf_test_dataset, w1) + b1), w2) + b2)"
   ]
  },
  {
   "cell_type": "code",
   "execution_count": 62,
   "metadata": {
    "collapsed": false
   },
   "outputs": [
    {
     "name": "stdout",
     "output_type": "stream",
     "text": [
      "Initialized\n",
      "\n",
      "Minibatch loss at step 0: 2655.076172\n",
      "Minibatch accuracy: 43.8%\n",
      "Validation accuracy: 35.2%\n",
      "\n",
      "Test accuracy: 53.7%\n"
     ]
    }
   ],
   "source": [
    "num_steps = 3001\n",
    "#num_steps = 4\n",
    "\n",
    "with tf.Session(graph=graph) as session:\n",
    "\n",
    "    tf.initialize_all_variables().run()\n",
    "    print(\"Initialized\\n\")\n",
    "\n",
    "    for step in range(num_steps):\n",
    "\n",
    "        offset = (step * batch_size) % (train_labels.shape[0] - batch_size)\n",
    "        batch_data = train_dataset[offset:(offset + batch_size), :]\n",
    "        batch_labels = train_labels[offset:(offset + batch_size), :]\n",
    "\n",
    "        feed_dict = {tf_train_dataset : batch_data, tf_train_labels : batch_labels}\n",
    "    \n",
    "        session.run(optimizer, feed_dict=feed_dict)\n",
    "        \n",
    "        if (step % 500 == 0):\n",
    "            print(\"Minibatch loss at step %d: %f\" % (step, loss.eval(feed_dict=feed_dict)))\n",
    "            print(\"Minibatch accuracy: %.1f%%\" % accuracy(train_prediction.eval(feed_dict=feed_dict), batch_labels))\n",
    "            print(\"Validation accuracy: %.1f%%\\n\" % accuracy(valid_prediction.eval(), valid_labels))\n",
    "    print(\"Test accuracy: %.1f%%\" % accuracy(test_prediction.eval(), test_labels))"
   ]
  },
  {
   "cell_type": "markdown",
   "metadata": {
    "colab_type": "text",
    "id": "na8xX2yHZzNF"
   },
   "source": [
    "---\n",
    "Problem 2\n",
    "---------\n",
    "Let's demonstrate an extreme case of overfitting. Restrict your training data to just a few batches. What happens?\n",
    "\n",
    "**Result: ** accuracy drops.\n",
    "If `num_steps = 4` -> accuracy = 59.5%. :)\n",
    "\n",
    "---"
   ]
  },
  {
   "cell_type": "markdown",
   "metadata": {
    "colab_type": "text",
    "id": "ww3SCBUdlkRc"
   },
   "source": [
    "---\n",
    "Problem 3\n",
    "---------\n",
    "Introduce Dropout on the hidden layer of the neural network. Remember: Dropout should only be introduced during training, not evaluation, otherwise your evaluation results would be stochastic as well. TensorFlow provides `nn.dropout()` for that, but you have to make sure it's only inserted during training.\n",
    "\n",
    "What happens to our extreme overfitting case?\n",
    "\n",
    "**Result:** Hm.. it remained nearly the same with `num_steps = 4`...\n",
    "\n",
    "---"
   ]
  },
  {
   "cell_type": "code",
   "execution_count": 84,
   "metadata": {
    "collapsed": false
   },
   "outputs": [],
   "source": [
    "batch_size = 128\n",
    "#hidden_level_size = 1024\n",
    "#hidden_level_size = 1536\n",
    "hidden_level_size = 512\n",
    "\n",
    "graph = tf.Graph()\n",
    "with graph.as_default():\n",
    "\n",
    "    tf_train_dataset = tf.placeholder(tf.float32,\n",
    "                                      shape=(batch_size, image_size * image_size))\n",
    "    tf_train_labels = tf.placeholder(tf.float32, shape=(batch_size, num_labels))\n",
    "    tf_valid_dataset = tf.constant(valid_dataset)\n",
    "    tf_test_dataset = tf.constant(test_dataset)\n",
    "  \n",
    "    w1 = tf.Variable(tf.truncated_normal([image_size * image_size, hidden_level_size]))\n",
    "    b1 = tf.Variable(tf.zeros([hidden_level_size]))\n",
    "\n",
    "    w2 = tf.Variable(tf.truncated_normal([hidden_level_size, num_labels]))\n",
    "    b2 = tf.Variable(tf.zeros([num_labels]))\n",
    "    \n",
    "    # 2 layer :)\n",
    "    # original logits (+ L2) - dropout nélkül: 91.6% (ld. alább)\n",
    "    #logits = tf.matmul(tf.nn.relu(tf.matmul(tf_train_dataset, w1) + b1), w2) + b2\n",
    "    #\n",
    "    # dropout bevezetése ennyi: relu után egy dropout :)\n",
    "    #\n",
    "    #  * hidden_layer_size=1024 + L2(0.05;0.05) + dropout: 91.2%;91.3% hm.. nem javít\n",
    "    #  * hidden_layer_size=1024 + dropout: 87.6%;87.2% hm.. nem javít\n",
    "    #\n",
    "    #  * hidden_layer_size=1536: 88.7%;89.6% -- hát, kicsit tán javított ez? hátha a dropout nagyon! :)\n",
    "    #  * hidden_layer_size=1536 + dropout: 88.1%;88.2% hm.. a dropout itt is ront..\n",
    "    # \n",
    "    #  * hidden_layer_size=512: 87.8%;87.8% -- persze, nem javított :)\n",
    "    #  * hidden_layer_size=512 + dropout: 86.2%;86.4% hm.. a dropout itt is ront..\n",
    "    dropout_keep_prob = 0.5\n",
    "    logits = tf.matmul(tf.nn.dropout(tf.nn.relu(tf.matmul(tf_train_dataset, w1) + b1), dropout_keep_prob), w2) + b2\n",
    "    \n",
    "    # original loss\n",
    "    loss = tf.reduce_mean(tf.nn.softmax_cross_entropy_with_logits(logits, tf_train_labels))\n",
    "    # -> 88%;89%;89.3%;89.1%\n",
    "    #\n",
    "    # new loss with L2 regularization\n",
    "    #  * ha csak w1-re L2-zünk: 0.01 -> 91%;89%;90.7%;92.0%! :)\n",
    "    #    (0.5 -> 71% ; 0.1 -> 78% ; 0.05 -> 86%)\n",
    "    #  * ha w1 és w2-re is L2: 0.05;0.05 -> 91.6%;91.6%;91.7%! :)\n",
    "    #    (0.01;0.01 -> 90.4%;90.2%)\n",
    "    #l2_weight_beta_w1 = 0.005\n",
    "    #l2_weight_beta_w2 = 0.005\n",
    "    #loss = (\n",
    "    #    tf.reduce_mean(tf.nn.softmax_cross_entropy_with_logits(logits,tf_train_labels))\n",
    "    #    + l2_weight_beta_w1 * tf.nn.l2_loss(w1)\n",
    "    #    + l2_weight_beta_w2 * tf.nn.l2_loss(w2)\n",
    "    #)\n",
    "    \n",
    "    optimizer = tf.train.GradientDescentOptimizer(0.5).minimize(loss)\n",
    "  \n",
    "    train_prediction = tf.nn.softmax(logits)\n",
    "    valid_prediction = tf.nn.softmax(tf.matmul(tf.nn.relu(tf.matmul(tf_valid_dataset, w1) + b1), w2) + b2)\n",
    "    test_prediction = tf.nn.softmax(tf.matmul(tf.nn.relu(tf.matmul(tf_test_dataset, w1) + b1), w2) + b2)"
   ]
  },
  {
   "cell_type": "code",
   "execution_count": 85,
   "metadata": {
    "collapsed": false
   },
   "outputs": [
    {
     "name": "stdout",
     "output_type": "stream",
     "text": [
      "Initialized\n",
      "\n",
      "Minibatch loss at step 0: 372.573517\n",
      "Minibatch accuracy: 49.2%\n",
      "Validation accuracy: 34.3%\n",
      "\n",
      "Minibatch loss at step 500: 8.367976\n",
      "Minibatch accuracy: 73.4%\n",
      "Validation accuracy: 73.7%\n",
      "\n",
      "Minibatch loss at step 1000: 2.482793\n",
      "Minibatch accuracy: 68.8%\n",
      "Validation accuracy: 75.2%\n",
      "\n",
      "Minibatch loss at step 1500: 3.408662\n",
      "Minibatch accuracy: 76.6%\n",
      "Validation accuracy: 77.5%\n",
      "\n",
      "Minibatch loss at step 2000: 3.594660\n",
      "Minibatch accuracy: 75.0%\n",
      "Validation accuracy: 78.6%\n",
      "\n",
      "Minibatch loss at step 2500: 2.072365\n",
      "Minibatch accuracy: 80.5%\n",
      "Validation accuracy: 78.4%\n",
      "\n",
      "Minibatch loss at step 3000: 1.261629\n",
      "Minibatch accuracy: 70.3%\n",
      "Validation accuracy: 79.0%\n",
      "\n",
      "Test accuracy: 86.4%\n"
     ]
    }
   ],
   "source": [
    "num_steps = 3001\n",
    "#num_steps = 4\n",
    "\n",
    "with tf.Session(graph=graph) as session:\n",
    "\n",
    "    tf.initialize_all_variables().run()\n",
    "    print(\"Initialized\\n\")\n",
    "\n",
    "    for step in range(num_steps):\n",
    "\n",
    "        offset = (step * batch_size) % (train_labels.shape[0] - batch_size)\n",
    "        batch_data = train_dataset[offset:(offset + batch_size), :]\n",
    "        batch_labels = train_labels[offset:(offset + batch_size), :]\n",
    "\n",
    "        feed_dict = {tf_train_dataset : batch_data, tf_train_labels : batch_labels}\n",
    "    \n",
    "        session.run(optimizer, feed_dict=feed_dict)\n",
    "        \n",
    "        if (step % 500 == 0):\n",
    "            print(\"Minibatch loss at step %d: %f\" % (step, loss.eval(feed_dict=feed_dict)))\n",
    "            print(\"Minibatch accuracy: %.1f%%\" % accuracy(train_prediction.eval(feed_dict=feed_dict), batch_labels))\n",
    "            print(\"Validation accuracy: %.1f%%\\n\" % accuracy(valid_prediction.eval(), valid_labels))\n",
    "    print(\"Test accuracy: %.1f%%\" % accuracy(test_prediction.eval(), test_labels))"
   ]
  },
  {
   "cell_type": "markdown",
   "metadata": {
    "colab_type": "text",
    "id": "-b1hTz3VWZjw"
   },
   "source": [
    "---\n",
    "Problem 4\n",
    "---------\n",
    "\n",
    "Try to get the best performance you can using a multi-layer model! The best reported test accuracy using a deep network is [97.1%](http://yaroslavvb.blogspot.com/2011/09/notmnist-dataset.html?showComment=1391023266211#c8758720086795711595).\n",
    "\n",
    "One avenue you can explore is to add multiple layers.\n",
    "\n",
    "Another one is to use learning rate decay:\n",
    "\n",
    "    global_step = tf.Variable(0)  # count the number of steps taken.\n",
    "    learning_rate = tf.train.exponential_decay(0.5, global_step, ...)\n",
    "    optimizer = tf.train.GradientDescentOptimizer(learning_rate).minimize(loss, global_step=global_step)\n",
    " \n",
    " **Utóbbi egyelőre elmaradt.**\n",
    " \n",
    " ---\n"
   ]
  },
  {
   "cell_type": "code",
   "execution_count": 13,
   "metadata": {
    "collapsed": false
   },
   "outputs": [],
   "source": [
    "batch_size = 128\n",
    "hidden_level_size_1 = 1024\n",
    "hidden_level_size_2 = 1024\n",
    "\n",
    "graph = tf.Graph()\n",
    "with graph.as_default():\n",
    "\n",
    "    tf_train_dataset = tf.placeholder(tf.float32, shape=(batch_size, image_size * image_size))\n",
    "    tf_train_labels = tf.placeholder(tf.float32, shape=(batch_size, num_labels))\n",
    "    tf_valid_dataset = tf.constant(valid_dataset)\n",
    "    tf_test_dataset = tf.constant(test_dataset)\n",
    "  \n",
    "    w1 = tf.Variable(tf.truncated_normal([image_size * image_size, hidden_level_size_1]))\n",
    "    b1 = tf.Variable(tf.zeros([hidden_level_size_1]))\n",
    "    \n",
    "    w2 = tf.Variable(tf.truncated_normal([hidden_level_size_1, hidden_level_size_2]))\n",
    "    b2 = tf.Variable(tf.zeros([hidden_level_size_2]))\n",
    "    \n",
    "    w3 = tf.Variable(tf.truncated_normal([hidden_level_size_2, num_labels]))\n",
    "    b3 = tf.Variable(tf.zeros([num_labels]))\n",
    "    \n",
    "    # alap, mert ez volt eddig 2 layerrel a legjobb: L2(0.05,0.05); dropout nélkül: 91.6%\n",
    "    #                    logits = tf.matmul(tf.nn.relu(tf.matmul(tf_train_dataset, w1) + b1), w2) + b2\n",
    "    \n",
    "    # na, akkor legyen 3 layer -- ez még nagy nehezen megy kézzel, de nem valami áttekinthető :)\n",
    "    logits = tf.matmul(tf.nn.relu(tf.matmul(tf.nn.relu(tf.matmul(tf_train_dataset, w1) + b1), w2) + b2), w3) + b3\n",
    "    #\n",
    "    # dropout bevezetése ennyi: relu után egy dropout :)\n",
    "    #\n",
    "    #dropout_keep_prob = 0.5\n",
    "    # XXX ez még átírandó 3 layerre!\n",
    "    #XXXlogits = tf.matmul(tf.nn.dropout(tf.nn.relu(tf.matmul(tf_train_dataset, w1) + b1), dropout_keep_prob), w2) + b2\n",
    "    \n",
    "    # original loss\n",
    "    #loss = tf.reduce_mean(tf.nn.softmax_cross_entropy_with_logits(logits, tf_train_labels))\n",
    "    #\n",
    "    # new loss with L2 regularization\n",
    "    l2_weight_beta_w1 = 0.003\n",
    "    l2_weight_beta_w2 = 0.003\n",
    "    l2_weight_beta_w3 = 0.003\n",
    "    loss = (\n",
    "        tf.reduce_mean(tf.nn.softmax_cross_entropy_with_logits(logits,tf_train_labels))\n",
    "        + l2_weight_beta_w1 * tf.nn.l2_loss(w1)\n",
    "        + l2_weight_beta_w2 * tf.nn.l2_loss(w2)\n",
    "        + l2_weight_beta_w3 * tf.nn.l2_loss(w3)\n",
    "    )\n",
    "    \n",
    "    # XXX hátha a learning rate segít...\n",
    "    #  * 0.5 ; 0.1: 10% -- azaz ez így \"elszáll\", miért, mi történik, miért pontosan 10%, mindenre ua-t mondja? miért?\n",
    "    #  * 0.05: -> 76.7%;75.4%;75.3%\n",
    "    #  * 0.05 és 9000 lépés: 89.7%\n",
    "    #  * 0.05 és 18000 lépés: 92.5%\n",
    "    #  * 0.05 és 27000 lépés: 93.8% -- wow! :)\n",
    "\n",
    "    optimizer = tf.train.GradientDescentOptimizer(0.05).minimize(loss)\n",
    "  \n",
    "    train_prediction = tf.nn.softmax(logits)\n",
    "    # itt is nyilván 3 rétegre kell!\n",
    "    valid_prediction = tf.nn.softmax(\n",
    "        tf.matmul(tf.nn.relu(tf.matmul(tf.nn.relu(tf.matmul(tf_valid_dataset, w1) + b1), w2) + b2), w3) + b3)\n",
    "    test_prediction = tf.nn.softmax(\n",
    "        tf.matmul(tf.nn.relu(tf.matmul(tf.nn.relu(tf.matmul(tf_test_dataset, w1) + b1), w2) + b2), w3) + b3)"
   ]
  },
  {
   "cell_type": "code",
   "execution_count": 14,
   "metadata": {
    "collapsed": false
   },
   "outputs": [
    {
     "name": "stdout",
     "output_type": "stream",
     "text": [
      "Initialized\n",
      "\n",
      "Minibatch loss at step 0: 176288.640625\n",
      "Minibatch accuracy: 28.9%\n",
      "Validation accuracy: 23.3%\n",
      "\n",
      "Minibatch loss at step 500: 2403.145508\n",
      "Minibatch accuracy: 52.3%\n",
      "Validation accuracy: 48.7%\n",
      "\n",
      "Minibatch loss at step 1000: 2068.388184\n",
      "Minibatch accuracy: 57.8%\n",
      "Validation accuracy: 52.2%\n",
      "\n",
      "Minibatch loss at step 1500: 1780.012451\n",
      "Minibatch accuracy: 61.7%\n",
      "Validation accuracy: 55.3%\n",
      "\n",
      "Minibatch loss at step 2000: 1532.169922\n",
      "Minibatch accuracy: 57.8%\n",
      "Validation accuracy: 60.8%\n",
      "\n",
      "Minibatch loss at step 2500: 1318.652222\n",
      "Minibatch accuracy: 72.7%\n",
      "Validation accuracy: 62.5%\n",
      "\n",
      "Minibatch loss at step 3000: 1135.148193\n",
      "Minibatch accuracy: 67.2%\n",
      "Validation accuracy: 65.8%\n",
      "\n",
      "Minibatch loss at step 3500: 977.074829\n",
      "Minibatch accuracy: 66.4%\n",
      "Validation accuracy: 68.9%\n",
      "\n",
      "Minibatch loss at step 4000: 841.372070\n",
      "Minibatch accuracy: 71.1%\n",
      "Validation accuracy: 69.6%\n",
      "\n",
      "Minibatch loss at step 4500: 723.855652\n",
      "Minibatch accuracy: 75.8%\n",
      "Validation accuracy: 72.1%\n",
      "\n",
      "Minibatch loss at step 5000: 623.270996\n",
      "Minibatch accuracy: 69.5%\n",
      "Validation accuracy: 73.1%\n",
      "\n",
      "Minibatch loss at step 5500: 536.579834\n",
      "Minibatch accuracy: 67.2%\n",
      "Validation accuracy: 74.8%\n",
      "\n",
      "Minibatch loss at step 6000: 461.665283\n",
      "Minibatch accuracy: 80.5%\n",
      "Validation accuracy: 76.5%\n",
      "\n",
      "Minibatch loss at step 6500: 397.411377\n",
      "Minibatch accuracy: 80.5%\n",
      "Validation accuracy: 77.4%\n",
      "\n",
      "Minibatch loss at step 7000: 342.129456\n",
      "Minibatch accuracy: 81.2%\n",
      "Validation accuracy: 78.8%\n",
      "\n",
      "Minibatch loss at step 7500: 294.595154\n",
      "Minibatch accuracy: 84.4%\n",
      "Validation accuracy: 79.8%\n",
      "\n",
      "Minibatch loss at step 8000: 253.573105\n",
      "Minibatch accuracy: 80.5%\n",
      "Validation accuracy: 80.0%\n",
      "\n",
      "Minibatch loss at step 8500: 218.180984\n",
      "Minibatch accuracy: 86.7%\n",
      "Validation accuracy: 80.9%\n",
      "\n",
      "Minibatch loss at step 9000: 188.062347\n",
      "Minibatch accuracy: 79.7%\n",
      "Validation accuracy: 81.6%\n",
      "\n",
      "Minibatch loss at step 9500: 161.854156\n",
      "Minibatch accuracy: 84.4%\n",
      "Validation accuracy: 82.2%\n",
      "\n",
      "Minibatch loss at step 10000: 139.430878\n",
      "Minibatch accuracy: 84.4%\n",
      "Validation accuracy: 82.5%\n",
      "\n",
      "Minibatch loss at step 10500: 119.875053\n",
      "Minibatch accuracy: 90.6%\n",
      "Validation accuracy: 83.0%\n",
      "\n",
      "Minibatch loss at step 11000: 103.207253\n",
      "Minibatch accuracy: 89.1%\n",
      "Validation accuracy: 83.3%\n",
      "\n",
      "Minibatch loss at step 11500: 88.994766\n",
      "Minibatch accuracy: 85.2%\n",
      "Validation accuracy: 84.0%\n",
      "\n",
      "Minibatch loss at step 12000: 76.699532\n",
      "Minibatch accuracy: 82.0%\n",
      "Validation accuracy: 83.7%\n",
      "\n",
      "Minibatch loss at step 12500: 66.067902\n",
      "Minibatch accuracy: 86.7%\n",
      "Validation accuracy: 84.3%\n",
      "\n",
      "Minibatch loss at step 13000: 56.806557\n",
      "Minibatch accuracy: 89.1%\n",
      "Validation accuracy: 84.6%\n",
      "\n",
      "Minibatch loss at step 13500: 49.046261\n",
      "Minibatch accuracy: 86.7%\n",
      "Validation accuracy: 84.8%\n",
      "\n",
      "Minibatch loss at step 14000: 42.303375\n",
      "Minibatch accuracy: 88.3%\n",
      "Validation accuracy: 85.1%\n",
      "\n",
      "Minibatch loss at step 14500: 36.447861\n",
      "Minibatch accuracy: 87.5%\n",
      "Validation accuracy: 85.3%\n",
      "\n",
      "Minibatch loss at step 15000: 31.500238\n",
      "Minibatch accuracy: 86.7%\n",
      "Validation accuracy: 85.2%\n",
      "\n",
      "Minibatch loss at step 15500: 27.130341\n",
      "Minibatch accuracy: 88.3%\n",
      "Validation accuracy: 85.6%\n",
      "\n",
      "Minibatch loss at step 16000: 23.315557\n",
      "Minibatch accuracy: 89.8%\n",
      "Validation accuracy: 85.9%\n",
      "\n",
      "Minibatch loss at step 16500: 20.306574\n",
      "Minibatch accuracy: 85.9%\n",
      "Validation accuracy: 86.0%\n",
      "\n",
      "Minibatch loss at step 17000: 17.518173\n",
      "Minibatch accuracy: 89.1%\n",
      "Validation accuracy: 85.7%\n",
      "\n",
      "Minibatch loss at step 17500: 15.163933\n",
      "Minibatch accuracy: 85.2%\n",
      "Validation accuracy: 86.1%\n",
      "\n",
      "Minibatch loss at step 18000: 13.089342\n",
      "Minibatch accuracy: 86.7%\n",
      "Validation accuracy: 86.1%\n",
      "\n",
      "Minibatch loss at step 18500: 11.322101\n",
      "Minibatch accuracy: 89.1%\n",
      "Validation accuracy: 86.3%\n",
      "\n",
      "Minibatch loss at step 19000: 9.716645\n",
      "Minibatch accuracy: 93.0%\n",
      "Validation accuracy: 86.7%\n",
      "\n",
      "Minibatch loss at step 19500: 8.625216\n",
      "Minibatch accuracy: 85.9%\n",
      "Validation accuracy: 86.5%\n",
      "\n",
      "Minibatch loss at step 20000: 7.319058\n",
      "Minibatch accuracy: 89.1%\n",
      "Validation accuracy: 86.6%\n",
      "\n",
      "Minibatch loss at step 20500: 6.522220\n",
      "Minibatch accuracy: 88.3%\n",
      "Validation accuracy: 86.7%\n",
      "\n",
      "Minibatch loss at step 21000: 5.782051\n",
      "Minibatch accuracy: 81.2%\n",
      "Validation accuracy: 86.7%\n",
      "\n",
      "Minibatch loss at step 21500: 5.047620\n",
      "Minibatch accuracy: 82.8%\n",
      "Validation accuracy: 86.8%\n",
      "\n",
      "Minibatch loss at step 22000: 4.240307\n",
      "Minibatch accuracy: 89.1%\n",
      "Validation accuracy: 86.9%\n",
      "\n",
      "Minibatch loss at step 22500: 3.748318\n",
      "Minibatch accuracy: 89.1%\n",
      "Validation accuracy: 86.9%\n",
      "\n",
      "Minibatch loss at step 23000: 3.331634\n",
      "Minibatch accuracy: 89.1%\n",
      "Validation accuracy: 87.1%\n",
      "\n",
      "Minibatch loss at step 23500: 2.927194\n",
      "Minibatch accuracy: 89.1%\n",
      "Validation accuracy: 87.0%\n",
      "\n",
      "Minibatch loss at step 24000: 2.500096\n",
      "Minibatch accuracy: 92.2%\n",
      "Validation accuracy: 87.1%\n",
      "\n",
      "Minibatch loss at step 24500: 2.183866\n",
      "Minibatch accuracy: 93.8%\n",
      "Validation accuracy: 87.2%\n",
      "\n",
      "Minibatch loss at step 25000: 2.122761\n",
      "Minibatch accuracy: 87.5%\n",
      "Validation accuracy: 87.1%\n",
      "\n",
      "Minibatch loss at step 25500: 1.799229\n",
      "Minibatch accuracy: 91.4%\n",
      "Validation accuracy: 87.2%\n",
      "\n",
      "Minibatch loss at step 26000: 1.613621\n",
      "Minibatch accuracy: 90.6%\n",
      "Validation accuracy: 87.3%\n",
      "\n",
      "Minibatch loss at step 26500: 1.429615\n",
      "Minibatch accuracy: 89.1%\n",
      "Validation accuracy: 87.4%\n",
      "\n",
      "Minibatch loss at step 27000: 1.280690\n",
      "Minibatch accuracy: 93.8%\n",
      "Validation accuracy: 87.4%\n",
      "\n",
      "Test accuracy: 93.8%\n"
     ]
    }
   ],
   "source": [
    "num_steps = 27001\n",
    "#num_steps = 3001\n",
    "#num_steps = 4\n",
    "\n",
    "with tf.Session(graph=graph) as session:\n",
    "\n",
    "    tf.initialize_all_variables().run()\n",
    "    print(\"Initialized\\n\")\n",
    "\n",
    "    for step in range(num_steps):\n",
    "\n",
    "        offset = (step * batch_size) % (train_labels.shape[0] - batch_size)\n",
    "        batch_data = train_dataset[offset:(offset + batch_size), :]\n",
    "        batch_labels = train_labels[offset:(offset + batch_size), :]\n",
    "\n",
    "        feed_dict = {tf_train_dataset : batch_data, tf_train_labels : batch_labels}\n",
    "    \n",
    "        session.run(optimizer, feed_dict=feed_dict)\n",
    "        \n",
    "        if (step % 500 == 0):\n",
    "            print(\"Minibatch loss at step %d: %f\" % (step, loss.eval(feed_dict=feed_dict)))\n",
    "            print(\"Minibatch accuracy: %.1f%%\" % accuracy(train_prediction.eval(feed_dict=feed_dict), batch_labels))\n",
    "            print(\"Validation accuracy: %.1f%%\\n\" % accuracy(valid_prediction.eval(), valid_labels))\n",
    "    print(\"Test accuracy: %.1f%%\" % accuracy(test_prediction.eval(), test_labels))"
   ]
  },
  {
   "cell_type": "code",
   "execution_count": null,
   "metadata": {
    "collapsed": true
   },
   "outputs": [],
   "source": []
  }
 ],
 "metadata": {
  "colab": {
   "default_view": {},
   "name": "3_regularization.ipynb",
   "provenance": [],
   "version": "0.3.2",
   "views": {}
  },
  "kernelspec": {
   "display_name": "Python 2",
   "language": "python",
   "name": "python2"
  },
  "language_info": {
   "codemirror_mode": {
    "name": "ipython",
    "version": 2
   },
   "file_extension": ".py",
   "mimetype": "text/x-python",
   "name": "python",
   "nbconvert_exporter": "python",
   "pygments_lexer": "ipython2",
   "version": "2.7.9"
  }
 },
 "nbformat": 4,
 "nbformat_minor": 0
}
