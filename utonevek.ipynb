{
 "cells": [
  {
   "cell_type": "markdown",
   "metadata": {},
   "source": [
    "# Magyar keresztnevek\n",
    "\n",
    "Próbáljuk meg LogRegr-rel megjósolni a vhányadik karakter alapján, hogy egy magyar keresztnév ffi vagy női. :)\n",
    "\n",
    "Sass Bálint (joker@nytud.hu)\n"
   ]
  },
  {
   "cell_type": "code",
   "execution_count": 233,
   "metadata": {
    "collapsed": false
   },
   "outputs": [
    {
     "name": "stdout",
     "output_type": "stream",
     "text": [
      "['Aba' 'Ab\\xe1d' 'Abb\\xe1s' ..., 'Zsongor' 'Zsubor' 'Zs\\xfclien']\n",
      "1639\n",
      "['Ab\\xe9lia' 'Abi\\xe1ta' 'Abig\\xe9l' ..., 'Zsuzska' 'Zs\\xfcliett'\n",
      " 'Zs\\xfcsztin']\n",
      "2175\n"
     ]
    }
   ],
   "source": [
    "import numpy as np\n",
    "\n",
    "# adat:\n",
    "# wget http://www.nytud.hu/oszt/nyelvmuvelo/utonevek/osszesffi.txt\n",
    "# wget http://www.nytud.hu/oszt/nyelvmuvelo/utonevek/osszesnoi.txt\n",
    "# .. és ráadásul utána kézzel ki kell törölni az első sorunkat, bocs.\n",
    "\n",
    "ffi = np.loadtxt(\"osszesffi.txt\",dtype=str)\n",
    "noi = np.loadtxt(\"osszesnoi.txt\",dtype=str)\n",
    "\n",
    "print(ffi)\n",
    "lffi=len(ffi)\n",
    "print(lffi)\n",
    "\n",
    "print(noi)\n",
    "lnoi=len(noi)\n",
    "print(lnoi)"
   ]
  },
  {
   "cell_type": "code",
   "execution_count": 234,
   "metadata": {
    "collapsed": false
   },
   "outputs": [
    {
     "name": "stdout",
     "output_type": "stream",
     "text": [
      "0.570267435763\n"
     ]
    }
   ],
   "source": [
    "# baseline = mind női\n",
    "baseline = lnoi/(lnoi+lffi+0.0)\n",
    "print(baseline)"
   ]
  },
  {
   "cell_type": "code",
   "execution_count": 235,
   "metadata": {
    "collapsed": false
   },
   "outputs": [
    {
     "name": "stdout",
     "output_type": "stream",
     "text": [
      "[[ 65  98  97 ...,  98  97   1]\n",
      " [ 65  98 225 ..., 225 100   1]\n",
      " [ 65  98  98 ..., 225 115   1]\n",
      " ..., \n",
      " [ 90 115 117 ..., 107  97   2]\n",
      " [ 90 115 252 ..., 116 116   2]\n",
      " [ 90 115 252 ..., 105 110   2]]\n"
     ]
    }
   ],
   "source": [
    "# (tutira nincs 3 betűnél rövidebb név, de ezt akár ellenőrizni is lehetne...)\n",
    "\n",
    "# * ebben bízunk, hogy mond vmi értelmeset\n",
    "feature_ind = np.array( [ 0, 1, 2, -3, -2, -1 ] ) # feature-ök: első 3 + utsó 3 betű :)\n",
    "# eredmény: 65-70% körül\n",
    "# és tökre nem tuti, hogy nő a tanítóhalmaz méretével -- miért? overfitting?\n",
    "# hm.. hát lehet, hogy tényleg csak ennyit tud = 3-3 betű alapján nem nagyon lehet megmondani egy névről a nemét!\n",
    "\n",
    "# * ebben is bízunk\n",
    "#feature_ind = np.array( [ -2, -1 ] ) # feature-ök: utsó 2 betű :)    \n",
    "# eredmény: 65-70% körül -- miért ua?\n",
    "# az eredmény csomószor csontra ua -- a tanítóhalmaz méretétől fgtlenül! (miért?)\n",
    "\n",
    "# * ez is hátha képes vmire, pl. ha 'a' a vége, akkor női...\n",
    "#feature_ind = np.array( [ -1 ] ) # 1 db feature: utsó betű :)\n",
    "# eredmény: 60-65% körül -- romlott, oké.\n",
    "\n",
    "# * ennek totál homálynak kéne lennie\n",
    "#feature_ind = np.array( [ 0 ] ) # 1 db feature: első betű :)\n",
    "# eredmény: 50-60% körül -- oké, rosszabb, kb. a baseline = \"mindegyik lány\" = 57%\n",
    "\n",
    "# * ennek is totál homálynak kéne lennie\n",
    "#feature_ind = np.array( [ 1 ] ) # 1 db feature: 2. betű :)\n",
    "# eredmény: 50-60% körül -- kb. csak annyira rossz, mint az előző\n",
    "\n",
    "# az baj, hogy ugyanaz van sokszor? (pl.: 'ia', ka', 'sz', rd'... mint utsó 2 betű)\n",
    "\n",
    "# -----\n",
    "\n",
    "feature_cnt = len(feature_ind)\n",
    "\n",
    "data = np.zeros((lffi+lnoi,feature_cnt+1), dtype=np.uint8) # +1 az osztálynak: ffi=1, noi=2\n",
    "\n",
    "def str2features(s):\n",
    "    b = np.fromstring(s, dtype=np.uint8)\n",
    "    return np.array( [ b[feature_ind] ] )\n",
    "\n",
    "# hogy lehetne vektorizálni... meg szebben összefűzni a kettőt...\n",
    "for i, n in enumerate(ffi):\n",
    "    data[i,0:feature_cnt] = str2features(n)\n",
    "    data[i,feature_cnt:feature_cnt+1] = 1\n",
    "    \n",
    "for i, n in enumerate(noi):\n",
    "    data[lffi+i,0:feature_cnt] = str2features(n)\n",
    "    data[lffi+i,feature_cnt:feature_cnt+1] = 2\n",
    "\n",
    "print(data)\n",
    "\n",
    "def bytes2str(b):\n",
    "    return \"\".join(map(chr, b))\n",
    "\n",
    "#counts = dict()\n",
    "#for i in data:\n",
    "#    j = bytes2str( i[0:-1] )\n",
    "#    counts[j] = counts.get(j, 0) + 1\n",
    "#print(counts)"
   ]
  },
  {
   "cell_type": "code",
   "execution_count": 236,
   "metadata": {
    "collapsed": false
   },
   "outputs": [
    {
     "name": "stdout",
     "output_type": "stream",
     "text": [
      "[[ 75 111 114 ..., 105  97   2]\n",
      " [ 67 105 112 ..., 110  97   2]\n",
      " [ 90 115 117 ..., 115  97   2]\n",
      " ..., \n",
      " [ 77 111 110 ..., 116 105   1]\n",
      " [ 83 122 111 ..., 111 110   1]\n",
      " [ 70 245  98 ...,  98 101   2]]\n",
      "(array([ 75, 111, 114, 108, 105,  97,   2], dtype=uint8), 'Korlia\\x02')\n",
      "(array([ 67, 105, 112, 225, 110,  97,   2], dtype=uint8), 'Cip\\xe1na\\x02')\n",
      "(array([ 90, 115, 117, 122, 115,  97,   2], dtype=uint8), 'Zsuzsa\\x02')\n",
      "(array([ 76, 105, 100, 105, 100,  97,   2], dtype=uint8), 'Lidida\\x02')\n",
      "(array([ 73, 108, 117, 108, 117, 115,   2], dtype=uint8), 'Ilulus\\x02')\n",
      "(array([ 75, 111, 114,  97, 108, 108,   2], dtype=uint8), 'Korall\\x02')\n",
      "(array([ 82, 111, 100, 105, 111, 110,   1], dtype=uint8), 'Rodion\\x01')\n",
      "(array([ 80, 105, 108, 233, 115, 122,   1], dtype=uint8), 'Pil\\xe9sz\\x01')\n",
      "(array([ 65, 122, 105, 122, 105, 122,   1], dtype=uint8), 'Aziziz\\x01')\n"
     ]
    }
   ],
   "source": [
    "# adatrandomizálás\n",
    "np.random.shuffle(data)\n",
    "\n",
    "print(data)\n",
    "\n",
    "for i in range(0,9):\n",
    "    print(data[i],bytes2str(data[i]))\n",
    "\n",
    "# training és test vágás\n",
    "train_data = data[0:3000,0:feature_cnt]\n",
    "train_labels = data[0:3000,feature_cnt:feature_cnt+1]\n",
    "test_data = data[3000:,0:feature_cnt]\n",
    "test_labels = data[3000:,feature_cnt:feature_cnt+1]"
   ]
  },
  {
   "cell_type": "code",
   "execution_count": 237,
   "metadata": {
    "collapsed": false
   },
   "outputs": [
    {
     "name": "stdout",
     "output_type": "stream",
     "text": [
      "0.644963144963\n",
      "0.673218673219\n",
      "0.674447174447\n",
      "0.68058968059\n"
     ]
    }
   ],
   "source": [
    "# logistic regression\n",
    "\n",
    "from sklearn.linear_model import LogisticRegression\n",
    "\n",
    "for train_size in (50, 500, 1000, 3000):\n",
    "\n",
    "    regr = LogisticRegression()\n",
    "\n",
    "    regr.fit(train_data[0:train_size], train_labels[0:train_size].ravel())\n",
    "    print(regr.score(test_data, test_labels.ravel()))\n"
   ]
  },
  {
   "cell_type": "code",
   "execution_count": 238,
   "metadata": {
    "collapsed": false
   },
   "outputs": [
    {
     "name": "stdout",
     "output_type": "stream",
     "text": [
      "('Barat\\xc3\\xa1n', 'ffi')\n",
      "('Baldia', 'noi')\n",
      "('Fin\\xc3\\xb3d', 'ffi')\n",
      "('Fin\\xc3\\xb3da', 'noi')\n",
      "('Fin\\xc3\\xb3dia', 'noi')\n",
      "('Fin\\xc3\\xb3di\\xc3\\xb3', 'ffi')\n"
     ]
    }
   ],
   "source": [
    "nemek = { 1 : 'ffi', 2 : 'noi' }\n",
    "for i in ( 'Baratán', 'Baldia', 'Finód', 'Finóda', 'Finódia', 'Finódió' ):\n",
    "    res = regr.predict(str2features(i).reshape(1, -1)) # khm.. warning-ba kiírta, hogy kell ez a reshape...\n",
    "    nem = nemek[res[0]]\n",
    "    print(i, nem)"
   ]
  }
 ],
 "metadata": {
  "kernelspec": {
   "display_name": "Python 2",
   "language": "python",
   "name": "python2"
  },
  "language_info": {
   "codemirror_mode": {
    "name": "ipython",
    "version": 2
   },
   "file_extension": ".py",
   "mimetype": "text/x-python",
   "name": "python",
   "nbconvert_exporter": "python",
   "pygments_lexer": "ipython2",
   "version": "2.7.9"
  }
 },
 "nbformat": 4,
 "nbformat_minor": 1
}
