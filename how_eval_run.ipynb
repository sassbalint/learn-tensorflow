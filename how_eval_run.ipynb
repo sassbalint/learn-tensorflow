{
 "cells": [
  {
   "cell_type": "markdown",
   "metadata": {
    "colab_type": "text",
    "id": "kR-4eNdK6lYS"
   },
   "source": [
    "Deep Learning\n",
    "=============\n",
    "\n",
    "`eval()` vs `session.run()`"
   ]
  },
  {
   "cell_type": "code",
   "execution_count": 3,
   "metadata": {
    "cellView": "both",
    "colab": {
     "autoexec": {
      "startup": false,
      "wait_interval": 0
     }
    },
    "colab_type": "code",
    "collapsed": true,
    "id": "JLpLa8Jt7Vu4"
   },
   "outputs": [],
   "source": [
    "from __future__ import print_function\n",
    "import numpy as np\n",
    "import tensorflow as tf"
   ]
  },
  {
   "cell_type": "code",
   "execution_count": 16,
   "metadata": {
    "cellView": "both",
    "colab": {
     "autoexec": {
      "startup": false,
      "wait_interval": 0
     }
    },
    "colab_type": "code",
    "collapsed": false,
    "id": "Nfv39qvtvOl_"
   },
   "outputs": [],
   "source": [
    "image_size = 28\n",
    "num_labels = 10\n",
    "\n",
    "graph = tf.Graph()\n",
    "with graph.as_default():\n",
    "\n",
    "  # Input data.\n",
    "  # Load the training, validation and test data into constants that are attached to the graph.\n",
    "  # az egész adathalmaz 1 db változó lesz! :)\n",
    "  # -- dummy adatok!\n",
    "  tf_train_dataset = tf.constant(np.arange(20*784).reshape(20,784).astype(np.float32))\n",
    "  tf_train_labels = tf.constant(np.arange(200).reshape(20,10).astype(np.float32))\n",
    "  tf_valid_dataset = tf.constant(np.arange(10*784).reshape(10,784).astype(np.float32))\n",
    "  tf_test_dataset = tf.constant(np.arange(10*784).reshape(10,784).astype(np.float32))\n",
    "  \n",
    "  # Variables.\n",
    "  # These are the parameters that we are going to be training. The weight\n",
    "  # matrix will be initialized using random values following a (truncated)\n",
    "  # normal distribution. The biases get initialized to zero.\n",
    "  weights = tf.Variable(\n",
    "    \n",
    "    tf.truncated_normal([image_size * image_size, num_labels])) # így 82.5% és 82.7% lett\n",
    "    \n",
    "    #tf.zeros([image_size * image_size, num_labels])) # így 88.6% és 88.6% lett!!! XXX XXX XXX (ez -35%!)\n",
    "\n",
    "  biases = tf.Variable(tf.zeros([num_labels]))\n",
    "  # az egész W az 1 db változó és a b is :)\n",
    "  \n",
    "  # Training computation.\n",
    "  # We multiply the inputs with the weight matrix, and add biases. We compute\n",
    "  # the softmax and cross-entropy (it's one operation in TensorFlow, because\n",
    "  # it's very common, and it can be optimized). We take the average of this\n",
    "  # cross-entropy across all training examples: that's our loss.\n",
    "\n",
    "  # szinte pont, ahogy volt a diákon (csak már az első lépésben a teljes adathalmazon dolgozunk):\n",
    "  # XW+b for every X_i in input set\n",
    "  # (azaz itt a biases-nél van egy broadcasting, minden sorhoz hozzáadja!):\n",
    "  logits = tf.matmul(tf_train_dataset, weights) + biases\n",
    "\n",
    "  # 1/N sum_i D(S(fenti),L) ::\n",
    "  # XXX a reduce_mean() honnan is tudja, hogy mely változók szerint? XXX\n",
    "  loss = tf.reduce_mean(\n",
    "    tf.nn.softmax_cross_entropy_with_logits(logits, tf_train_labels))\n",
    "  \n",
    "  # Optimizer.\n",
    "  # We are going to find the minimum of this loss using gradient descent.\n",
    "  # 0.5 -- ez hát a learning rate! :) + a minimize-ben adom meg, hogy mi szerint\n",
    "  optimizer = tf.train.GradientDescentOptimizer(0.5).minimize(loss)\n",
    "  \n",
    "  # Predictions for the training, validation, and test data.\n",
    "  # These are not part of training, but merely here so that we can report\n",
    "  # accuracy figures as we train.\n",
    "  # -- értsd: minden nyilván az adott változó épp aktuális értékéből számolva!\n",
    "  train_prediction = tf.nn.softmax(logits)\n",
    "  valid_prediction = tf.nn.softmax(tf.matmul(tf_valid_dataset, weights) + biases)\n",
    "  test_prediction = tf.nn.softmax(tf.matmul(tf_test_dataset, weights) + biases)"
   ]
  },
  {
   "cell_type": "code",
   "execution_count": 21,
   "metadata": {
    "collapsed": false
   },
   "outputs": [],
   "source": [
    "with tf.Session(graph=graph) as session:\n",
    "    tf.initialize_all_variables().run()\n",
    "    \n",
    "    session.run(valid_prediction)\n",
    "    #valid_prediction.run()\n",
    "    valid_prediction.eval()\n",
    "    \n",
    "    session.run(optimizer)\n",
    "    optimizer.run()\n",
    "    #optimizer.eval()"
   ]
  },
  {
   "cell_type": "markdown",
   "metadata": {},
   "source": [
    "**Eredmény:** a `session.run()` megcsinál mindent, különben: `Tensor.eval()`, `Operation.run()`!"
   ]
  }
 ],
 "metadata": {
  "colab": {
   "default_view": {},
   "name": "2_fullyconnected.ipynb",
   "provenance": [],
   "version": "0.3.2",
   "views": {}
  },
  "kernelspec": {
   "display_name": "Python 2",
   "language": "python",
   "name": "python2"
  },
  "language_info": {
   "codemirror_mode": {
    "name": "ipython",
    "version": 2
   },
   "file_extension": ".py",
   "mimetype": "text/x-python",
   "name": "python",
   "nbconvert_exporter": "python",
   "pygments_lexer": "ipython2",
   "version": "2.7.9"
  }
 },
 "nbformat": 4,
 "nbformat_minor": 0
}
