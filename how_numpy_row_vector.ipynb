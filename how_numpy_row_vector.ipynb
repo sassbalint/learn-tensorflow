{
 "cells": [
  {
   "cell_type": "markdown",
   "metadata": {
    "colab_type": "text",
    "id": "kR-4eNdK6lYS"
   },
   "source": [
    "numpy: vektor = sorvektor\n",
    "=============\n",
    "\n",
    "Érdemes így felfogni sztem. :)"
   ]
  },
  {
   "cell_type": "code",
   "execution_count": 2,
   "metadata": {
    "cellView": "both",
    "colab": {
     "autoexec": {
      "startup": false,
      "wait_interval": 0
     }
    },
    "colab_type": "code",
    "collapsed": true,
    "id": "JLpLa8Jt7Vu4"
   },
   "outputs": [],
   "source": [
    "from __future__ import print_function\n",
    "import numpy as np"
   ]
  },
  {
   "cell_type": "code",
   "execution_count": 3,
   "metadata": {
    "collapsed": false
   },
   "outputs": [
    {
     "name": "stdout",
     "output_type": "stream",
     "text": [
      "[[ 0  1  2  3  4]\n",
      " [ 5  6  7  8  9]\n",
      " [10 11 12 13 14]\n",
      " [15 16 17 18 19]\n",
      " [20 21 22 23 24]]\n"
     ]
    }
   ],
   "source": [
    "m = np.arange(25).reshape(5,5)\n",
    "print(m)"
   ]
  },
  {
   "cell_type": "code",
   "execution_count": 4,
   "metadata": {
    "collapsed": false
   },
   "outputs": [
    {
     "name": "stdout",
     "output_type": "stream",
     "text": [
      "[   0    0   10  100 -100]\n"
     ]
    }
   ],
   "source": [
    "v = np.array([0,0,10,100,-100])\n",
    "print(v)"
   ]
  },
  {
   "cell_type": "code",
   "execution_count": 5,
   "metadata": {
    "collapsed": false
   },
   "outputs": [
    {
     "name": "stdout",
     "output_type": "stream",
     "text": [
      "[[  0   1  12 103 -96]\n",
      " [  5   6  17 108 -91]\n",
      " [ 10  11  22 113 -86]\n",
      " [ 15  16  27 118 -81]\n",
      " [ 20  21  32 123 -76]]\n"
     ]
    }
   ],
   "source": [
    "# sorvektorként broadcastolja\n",
    "x = m + v\n",
    "print(x)"
   ]
  },
  {
   "cell_type": "code",
   "execution_count": 6,
   "metadata": {
    "collapsed": false
   },
   "outputs": [
    {
     "name": "stdout",
     "output_type": "stream",
     "text": [
      "[[   0]\n",
      " [   0]\n",
      " [  10]\n",
      " [ 100]\n",
      " [-100]]\n"
     ]
    }
   ],
   "source": [
    "w = v[:, None] # ua: w = v[:, np.newaxis] -- oszlopvektorrá alakítás\n",
    "print(w)"
   ]
  },
  {
   "cell_type": "code",
   "execution_count": 7,
   "metadata": {
    "collapsed": false
   },
   "outputs": [
    {
     "name": "stdout",
     "output_type": "stream",
     "text": [
      "[[  0   1   2   3   4]\n",
      " [  5   6   7   8   9]\n",
      " [ 20  21  22  23  24]\n",
      " [115 116 117 118 119]\n",
      " [-80 -79 -78 -77 -76]]\n"
     ]
    }
   ],
   "source": [
    "# oszlopvektor broadcast\n",
    "y = m + w\n",
    "print(y)"
   ]
  },
  {
   "cell_type": "code",
   "execution_count": 8,
   "metadata": {
    "collapsed": false
   },
   "outputs": [
    {
     "name": "stdout",
     "output_type": "stream",
     "text": [
      "[[   0    0   10  100 -100]\n",
      " [   0    0   10  100 -100]\n",
      " [  10   10   20  110  -90]\n",
      " [ 100  100  110  200    0]\n",
      " [-100 -100  -90    0 -200]]\n"
     ]
    }
   ],
   "source": [
    "z = v + w # broadcast 2x\n",
    "print(z)"
   ]
  }
 ],
 "metadata": {
  "colab": {
   "default_view": {},
   "name": "2_fullyconnected.ipynb",
   "provenance": [],
   "version": "0.3.2",
   "views": {}
  },
  "kernelspec": {
   "display_name": "Python 2",
   "language": "python",
   "name": "python2"
  },
  "language_info": {
   "codemirror_mode": {
    "name": "ipython",
    "version": 2
   },
   "file_extension": ".py",
   "mimetype": "text/x-python",
   "name": "python",
   "nbconvert_exporter": "python",
   "pygments_lexer": "ipython2",
   "version": "2.7.9"
  }
 },
 "nbformat": 4,
 "nbformat_minor": 0
}
