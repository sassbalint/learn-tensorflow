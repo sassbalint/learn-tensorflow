{
 "cells": [
  {
   "cell_type": "markdown",
   "metadata": {
    "colab_type": "text",
    "id": "kR-4eNdK6lYS"
   },
   "source": [
    "Deep Learning\n",
    "=============\n",
    "\n",
    "Assignment 2\n",
    "------------\n",
    "\n",
    "Previously in `1_notmnist.ipynb`, we created a pickle with formatted datasets for training, development and testing on the [notMNIST dataset](http://yaroslavvb.blogspot.com/2011/09/notmnist-dataset.html).\n",
    "\n",
    "The goal of this assignment is to progressively train deeper and more accurate models using TensorFlow."
   ]
  },
  {
   "cell_type": "code",
   "execution_count": 39,
   "metadata": {
    "cellView": "both",
    "colab": {
     "autoexec": {
      "startup": false,
      "wait_interval": 0
     }
    },
    "colab_type": "code",
    "collapsed": true,
    "id": "JLpLa8Jt7Vu4"
   },
   "outputs": [],
   "source": [
    "# These are all the modules we'll be using later. Make sure you can import them\n",
    "# before proceeding further.\n",
    "from __future__ import print_function\n",
    "import numpy as np\n",
    "import tensorflow as tf\n",
    "from six.moves import cPickle as pickle\n",
    "from six.moves import range"
   ]
  },
  {
   "cell_type": "markdown",
   "metadata": {
    "colab_type": "text",
    "id": "1HrCK6e17WzV"
   },
   "source": [
    "First reload the data we generated in `1_notmnist.ipynb`."
   ]
  },
  {
   "cell_type": "code",
   "execution_count": 40,
   "metadata": {
    "cellView": "both",
    "colab": {
     "autoexec": {
      "startup": false,
      "wait_interval": 0
     },
     "output_extras": [
      {
       "item_id": 1
      }
     ]
    },
    "colab_type": "code",
    "collapsed": false,
    "executionInfo": {
     "elapsed": 19456,
     "status": "ok",
     "timestamp": 1449847956073,
     "user": {
      "color": "",
      "displayName": "",
      "isAnonymous": false,
      "isMe": true,
      "permissionId": "",
      "photoUrl": "",
      "sessionId": "0",
      "userId": ""
     },
     "user_tz": 480
    },
    "id": "y3-cj1bpmuxc",
    "outputId": "0ddb1607-1fc4-4ddb-de28-6c7ab7fb0c33"
   },
   "outputs": [
    {
     "name": "stdout",
     "output_type": "stream",
     "text": [
      "Training set (200000, 28, 28) (200000,)\n",
      "Validation set (10000, 28, 28) (10000,)\n",
      "Test set (10000, 28, 28) (10000,)\n"
     ]
    }
   ],
   "source": [
    "pickle_file = 'notMNIST.pickle'\n",
    "\n",
    "with open(pickle_file, 'rb') as f:\n",
    "  save = pickle.load(f)\n",
    "  train_dataset = save['train_dataset']\n",
    "  train_labels = save['train_labels']\n",
    "  valid_dataset = save['valid_dataset']\n",
    "  valid_labels = save['valid_labels']\n",
    "  test_dataset = save['test_dataset']\n",
    "  test_labels = save['test_labels']\n",
    "  del save  # hint to help gc free up memory\n",
    "  print('Training set', train_dataset.shape, train_labels.shape)\n",
    "  print('Validation set', valid_dataset.shape, valid_labels.shape)\n",
    "  print('Test set', test_dataset.shape, test_labels.shape)"
   ]
  },
  {
   "cell_type": "markdown",
   "metadata": {
    "colab_type": "text",
    "id": "L7aHrm6nGDMB"
   },
   "source": [
    "Reformat into a shape that's more adapted to the models we're going to train:\n",
    "- data as a flat matrix,\n",
    "- labels as float 1-hot encodings."
   ]
  },
  {
   "cell_type": "code",
   "execution_count": 41,
   "metadata": {
    "collapsed": false
   },
   "outputs": [
    {
     "name": "stdout",
     "output_type": "stream",
     "text": [
      "[0 1 2 3 4 5 6 7 8 9]\n",
      "[[0]\n",
      " [1]\n",
      " [0]\n",
      " [6]]\n",
      "[[ 1.  0.  0.  0.  0.  0.  0.  0.  0.  0.]\n",
      " [ 0.  1.  0.  0.  0.  0.  0.  0.  0.  0.]\n",
      " [ 1.  0.  0.  0.  0.  0.  0.  0.  0.  0.]\n",
      " [ 0.  0.  0.  0.  0.  0.  1.  0.  0.  0.]]\n"
     ]
    }
   ],
   "source": [
    "ls = np.array([0, 1, 0, 6])\n",
    "\n",
    "# hogy is van ez az alábbi sor? :)\n",
    "nls = (np.arange(10) == ls[:,None]).astype(np.float32)\n",
    "# np.arange -- sorvektor\n",
    "# ls[:,None] -- oszlopvektor lesz (None jelentése itt: np.newaxis!)\n",
    "# mindkettőt broadcastoljuk -> lesz 2 db len(labels) x 10-es mátrixunk :)\n",
    "# ahol a kettő egyenlő, ott True/False (helyett 1/0!) lesz. Menő! :)\n",
    "\n",
    "print(np.arange(10))\n",
    "print(ls[:,None])\n",
    "print(nls)\n"
   ]
  },
  {
   "cell_type": "code",
   "execution_count": 42,
   "metadata": {
    "cellView": "both",
    "colab": {
     "autoexec": {
      "startup": false,
      "wait_interval": 0
     },
     "output_extras": [
      {
       "item_id": 1
      }
     ]
    },
    "colab_type": "code",
    "collapsed": false,
    "executionInfo": {
     "elapsed": 19723,
     "status": "ok",
     "timestamp": 1449847956364,
     "user": {
      "color": "",
      "displayName": "",
      "isAnonymous": false,
      "isMe": true,
      "permissionId": "",
      "photoUrl": "",
      "sessionId": "0",
      "userId": ""
     },
     "user_tz": 480
    },
    "id": "IRSyYiIIGIzS",
    "outputId": "2ba0fc75-1487-4ace-a562-cf81cae82793"
   },
   "outputs": [
    {
     "name": "stdout",
     "output_type": "stream",
     "text": [
      "Training set (200000, 784) (200000, 10)\n",
      "Validation set (10000, 784) (10000, 10)\n",
      "Test set (10000, 784) (10000, 10)\n"
     ]
    }
   ],
   "source": [
    "image_size = 28\n",
    "num_labels = 10\n",
    "\n",
    "def reformat(dataset, labels):\n",
    "  dataset = dataset.reshape((-1, image_size * image_size)).astype(np.float32)\n",
    "  # a -1 által kitalálja, hogy mennyi legyen ott -- ugye ahány kép van\n",
    "\n",
    "  # Map 0 to [1.0, 0.0, 0.0 ...], 1 to [0.0, 1.0, 0.0 ...]\n",
    "  labels = (np.arange(num_labels) == labels[:,None]).astype(np.float32)\n",
    "  return dataset, labels\n",
    "\n",
    "train_dataset, train_labels = reformat(train_dataset, train_labels)\n",
    "valid_dataset, valid_labels = reformat(valid_dataset, valid_labels)\n",
    "test_dataset, test_labels = reformat(test_dataset, test_labels)\n",
    "print('Training set', train_dataset.shape, train_labels.shape)\n",
    "print('Validation set', valid_dataset.shape, valid_labels.shape)\n",
    "print('Test set', test_dataset.shape, test_labels.shape)"
   ]
  },
  {
   "cell_type": "markdown",
   "metadata": {
    "colab_type": "text",
    "id": "nCLVqyQ5vPPH"
   },
   "source": [
    "We're first going to train a multinomial logistic regression using simple gradient descent.\n",
    "\n",
    "TensorFlow works like this:\n",
    "* First you describe the computation that you want to see performed: what the inputs, the variables, and the operations look like. These get created as nodes over a computation graph. This description is all contained within the block below:\n",
    "\n",
    "      with graph.as_default():\n",
    "          ...\n",
    "\n",
    "* Then you can run the operations on this graph as many times as you want by calling `session.run()`, providing it outputs to fetch from the graph that get returned. This runtime operation is all contained in the block below:\n",
    "\n",
    "      with tf.Session(graph=graph) as session:\n",
    "          ...\n",
    "\n",
    "Let's load all the data into TensorFlow and build the computation graph corresponding to our training:"
   ]
  },
  {
   "cell_type": "code",
   "execution_count": 43,
   "metadata": {
    "cellView": "both",
    "colab": {
     "autoexec": {
      "startup": false,
      "wait_interval": 0
     }
    },
    "colab_type": "code",
    "collapsed": true,
    "id": "Nfv39qvtvOl_"
   },
   "outputs": [],
   "source": [
    "# With gradient descent training, even this much data is prohibitive.\n",
    "# Subset the training data for faster turnaround.\n",
    "train_subset = 10000\n",
    "\n",
    "graph = tf.Graph()\n",
    "with graph.as_default():\n",
    "\n",
    "  # Input data.\n",
    "  # Load the training, validation and test data into constants that are attached to the graph.\n",
    "  # az egész adathalmaz 1 db változó lesz! :)\n",
    "  tf_train_dataset = tf.constant(train_dataset[:train_subset, :])\n",
    "  tf_train_labels = tf.constant(train_labels[:train_subset])\n",
    "  tf_valid_dataset = tf.constant(valid_dataset)\n",
    "  tf_test_dataset = tf.constant(test_dataset)\n",
    "  \n",
    "  # Variables.\n",
    "  # These are the parameters that we are going to be training. The weight\n",
    "  # matrix will be initialized using random values following a (truncated)\n",
    "  # normal distribution. The biases get initialized to zero.\n",
    "  weights = tf.Variable(\n",
    "    \n",
    "    tf.truncated_normal([image_size * image_size, num_labels])) # így 82.5% és 82.7% lett\n",
    "    \n",
    "    #tf.zeros([image_size * image_size, num_labels])) # így 88.6% és 88.6% lett!!! XXX XXX XXX (ez -35%!)\n",
    "\n",
    "  biases = tf.Variable(tf.zeros([num_labels]))\n",
    "  # az egész W az 1 db változó és a b is :)\n",
    "  \n",
    "  # Training computation.\n",
    "  # We multiply the inputs with the weight matrix, and add biases. We compute\n",
    "  # the softmax and cross-entropy (it's one operation in TensorFlow, because\n",
    "  # it's very common, and it can be optimized). We take the average of this\n",
    "  # cross-entropy across all training examples: that's our loss.\n",
    "\n",
    "  # szinte pont, ahogy volt a diákon (csak már az első lépésben a teljes adathalmazon dolgozunk):\n",
    "  # XW+b for every X_i in input set\n",
    "  # (azaz itt a biases-nél van egy broadcasting, minden sorhoz hozzáadja!):\n",
    "  logits = tf.matmul(tf_train_dataset, weights) + biases\n",
    "\n",
    "  # 1/N sum_i D(S(fenti),L) ::\n",
    "  # XXX a reduce_mean() honnan is tudja, hogy mely változók szerint? XXX\n",
    "  loss = tf.reduce_mean(\n",
    "    tf.nn.softmax_cross_entropy_with_logits(logits, tf_train_labels))\n",
    "  \n",
    "  # Optimizer.\n",
    "  # We are going to find the minimum of this loss using gradient descent.\n",
    "  # 0.5 -- ez hát a learning rate! :) + a minimize-ben adom meg, hogy mi szerint\n",
    "  optimizer = tf.train.GradientDescentOptimizer(0.5).minimize(loss)\n",
    "  \n",
    "  # Predictions for the training, validation, and test data.\n",
    "  # These are not part of training, but merely here so that we can report\n",
    "  # accuracy figures as we train.\n",
    "  # -- értsd: minden nyilván az adott változó épp aktuális értékéből számolva!\n",
    "  train_prediction = tf.nn.softmax(logits)\n",
    "  valid_prediction = tf.nn.softmax(tf.matmul(tf_valid_dataset, weights) + biases)\n",
    "  test_prediction = tf.nn.softmax(tf.matmul(tf_test_dataset, weights) + biases)"
   ]
  },
  {
   "cell_type": "markdown",
   "metadata": {
    "colab_type": "text",
    "id": "KQcL4uqISHjP"
   },
   "source": [
    "Let's run this computation and iterate:"
   ]
  },
  {
   "cell_type": "code",
   "execution_count": 44,
   "metadata": {
    "collapsed": false
   },
   "outputs": [
    {
     "name": "stdout",
     "output_type": "stream",
     "text": [
      "0.348571428571\n"
     ]
    }
   ],
   "source": [
    "print(1-(1000.-886)/(1000-825))\n"
   ]
  },
  {
   "cell_type": "code",
   "execution_count": 45,
   "metadata": {
    "collapsed": false
   },
   "outputs": [
    {
     "name": "stdout",
     "output_type": "stream",
     "text": [
      "[1 2 2 2]\n",
      "[1 2 0 2]\n",
      "4\n",
      "75.0\n"
     ]
    }
   ],
   "source": [
    "def accuracy(predictions, labels, verbose=False):\n",
    "  if verbose:  \n",
    "    print(np.argmax(predictions, axis=1))\n",
    "    print(np.argmax(labels, axis=1))\n",
    "    print(predictions.shape[0])\n",
    "  return (100.0 * np.sum(np.argmax(predictions, axis=1) == np.argmax(labels, axis=1)) / predictions.shape[0])\n",
    "\n",
    "p = np.array([[0.1, 0.5, 0.4],[0.1, 0.3, 0.6],[0.2, 0.1, 0.7],[0.3, 0.3, 0.4]])\n",
    "l = np.array([[0., 1., 0.],[0., 0., 1.],[1., 0., 0.],[0., 0., 1.]])\n",
    "\n",
    "print(accuracy(p,l,verbose=True))\n",
    "# na jó, így már kb. világos!\n",
    "# sorokban vannak az egy obj-ra vonatkozó adatok\n",
    "# és a 2dim mátrix sorain belül kell egybeejteni a dolgokat,\n",
    "# ezért axis=1 (ti. az axis-okat a legnagyobb egységtől számoljuk: 0. hányadik sor -- 1. hányadik elem benne)"
   ]
  },
  {
   "cell_type": "code",
   "execution_count": 46,
   "metadata": {
    "cellView": "both",
    "colab": {
     "autoexec": {
      "startup": false,
      "wait_interval": 0
     },
     "output_extras": [
      {
       "item_id": 9
      }
     ]
    },
    "colab_type": "code",
    "collapsed": false,
    "executionInfo": {
     "elapsed": 57454,
     "status": "ok",
     "timestamp": 1449847994134,
     "user": {
      "color": "",
      "displayName": "",
      "isAnonymous": false,
      "isMe": true,
      "permissionId": "",
      "photoUrl": "",
      "sessionId": "0",
      "userId": ""
     },
     "user_tz": 480
    },
    "id": "z2cjdenH869W",
    "outputId": "4c037ba1-b526-4d8e-e632-91e2a0333267"
   },
   "outputs": [
    {
     "name": "stdout",
     "output_type": "stream",
     "text": [
      "Initialized\n",
      "\n",
      "Loss at step   0    = 13.446451\n",
      "Training accuracy   = 15.0%\n",
      "Validation accuracy = 14.9%\n",
      "\n",
      "Loss at step 100    = 2.265620\n",
      "Training accuracy   = 72.3%\n",
      "Validation accuracy = 71.7%\n",
      "\n",
      "Loss at step 200    = 1.846820\n",
      "Training accuracy   = 75.0%\n",
      "Validation accuracy = 73.7%\n",
      "\n",
      "Loss at step 300    = 1.612310\n",
      "Training accuracy   = 76.4%\n",
      "Validation accuracy = 74.5%\n",
      "\n",
      "Loss at step 400    = 1.452225\n",
      "Training accuracy   = 77.2%\n",
      "Validation accuracy = 75.0%\n",
      "\n",
      "Loss at step 500    = 1.331900\n",
      "Training accuracy   = 77.8%\n",
      "Validation accuracy = 75.4%\n",
      "\n",
      "Loss at step 600    = 1.235922\n",
      "Training accuracy   = 78.3%\n",
      "Validation accuracy = 75.7%\n",
      "\n",
      "Loss at step 700    = 1.156865\n",
      "Training accuracy   = 78.9%\n",
      "Validation accuracy = 75.8%\n",
      "\n",
      "Loss at step 800    = 1.090358\n",
      "Training accuracy   = 79.4%\n",
      "Validation accuracy = 76.0%\n",
      "\n",
      "Test accuracy: 82.5%\n"
     ]
    }
   ],
   "source": [
    "num_steps = 801\n",
    "\n",
    "with tf.Session(graph=graph) as session:\n",
    "\n",
    "  # This is a one-time operation which ensures the parameters get initialized as\n",
    "  # we described in the graph: random weights for the matrix, zeros for the\n",
    "  # biases. \n",
    "  tf.initialize_all_variables().run()\n",
    "  print('Initialized\\n')\n",
    "\n",
    "  for step in range(num_steps):\n",
    "\n",
    "    # Run the computations. We tell .run() that we want to run the optimizer,\n",
    "    # and get the loss value and the training predictions returned as numpy\n",
    "    # arrays.\n",
    "    #\n",
    "    #_, l, predictions = session.run([optimizer, loss, train_prediction])\n",
    "    #\n",
    "    # az alábbi jobb, mint a fenti,\n",
    "    # mert a loss-t meg a train_prediction-t elég kiszámolni akkor eval()-lal\n",
    "    # mikor épp ki akarjuk írni -- és persze így sokkal gyorsabb is!\n",
    "    session.run(optimizer)\n",
    "\n",
    "    if (step % 100 == 0):\n",
    "      print('Loss at step %3d    = %f' % (step, loss.eval()))\n",
    "      print('Training accuracy   = %.1f%%' % accuracy(\n",
    "        train_prediction.eval(), train_labels[:train_subset, :]))\n",
    "      # Calling .eval() on valid_prediction is basically like calling run(), but\n",
    "      # just to get that one numpy array. Note that it recomputes all its graph\n",
    "      # dependencies.\n",
    "      print('Validation accuracy = %.1f%%\\n' % accuracy(\n",
    "        valid_prediction.eval(), valid_labels))\n",
    "\n",
    "  print('Test accuracy: %.1f%%' % accuracy(test_prediction.eval(), test_labels))"
   ]
  },
  {
   "cell_type": "markdown",
   "metadata": {
    "colab_type": "text",
    "id": "x68f-hxRGm3H"
   },
   "source": [
    "Let's now switch to stochastic gradient descent training instead, which is much faster.\n",
    "\n",
    "The graph will be similar, except that instead of holding all the training data into a constant node, we create a `Placeholder` node which will be fed actual data at every call of `session.run()`."
   ]
  },
  {
   "cell_type": "code",
   "execution_count": 47,
   "metadata": {
    "cellView": "both",
    "colab": {
     "autoexec": {
      "startup": false,
      "wait_interval": 0
     }
    },
    "colab_type": "code",
    "collapsed": true,
    "id": "qhPMzWYRGrzM"
   },
   "outputs": [],
   "source": [
    "batch_size = 128\n",
    "\n",
    "graph = tf.Graph()\n",
    "with graph.as_default():\n",
    "\n",
    "  # Input data. For the training data, we use a placeholder that will be fed\n",
    "  # at run time with a training minibatch.\n",
    "  tf_train_dataset = tf.placeholder(tf.float32,\n",
    "                                    shape=(batch_size, image_size * image_size))\n",
    "  tf_train_labels = tf.placeholder(tf.float32, shape=(batch_size, num_labels))\n",
    "  tf_valid_dataset = tf.constant(valid_dataset)\n",
    "  tf_test_dataset = tf.constant(test_dataset)\n",
    "  \n",
    "  # Variables.\n",
    "  weights = tf.Variable(\n",
    "    \n",
    "    tf.truncated_normal([image_size * image_size, num_labels])) # így: 86.4%\n",
    "\n",
    "    #tf.zeros([image_size * image_size, num_labels])) # így: 89.3% (-21.3% hiba!)\n",
    "    \n",
    "  biases = tf.Variable(tf.zeros([num_labels]))\n",
    "  \n",
    "  # Training computation.\n",
    "  logits = tf.matmul(tf_train_dataset, weights) + biases\n",
    "  loss = tf.reduce_mean(\n",
    "    tf.nn.softmax_cross_entropy_with_logits(logits, tf_train_labels))\n",
    "  \n",
    "  # Optimizer.\n",
    "  optimizer = tf.train.GradientDescentOptimizer(0.5).minimize(loss)\n",
    "  \n",
    "  # Predictions for the training, validation, and test data.\n",
    "  train_prediction = tf.nn.softmax(logits)\n",
    "  valid_prediction = tf.nn.softmax(tf.matmul(tf_valid_dataset, weights) + biases)\n",
    "  test_prediction = tf.nn.softmax(tf.matmul(tf_test_dataset, weights) + biases)"
   ]
  },
  {
   "cell_type": "code",
   "execution_count": 48,
   "metadata": {
    "collapsed": false
   },
   "outputs": [
    {
     "name": "stdout",
     "output_type": "stream",
     "text": [
      "0.213235294118\n"
     ]
    }
   ],
   "source": [
    "print(1-(1000.-893)/(1000-864))"
   ]
  },
  {
   "cell_type": "markdown",
   "metadata": {
    "colab_type": "text",
    "id": "XmVZESmtG4JH"
   },
   "source": [
    "Let's run it:"
   ]
  },
  {
   "cell_type": "code",
   "execution_count": 49,
   "metadata": {
    "cellView": "both",
    "colab": {
     "autoexec": {
      "startup": false,
      "wait_interval": 0
     },
     "output_extras": [
      {
       "item_id": 6
      }
     ]
    },
    "colab_type": "code",
    "collapsed": false,
    "executionInfo": {
     "elapsed": 66292,
     "status": "ok",
     "timestamp": 1449848003013,
     "user": {
      "color": "",
      "displayName": "",
      "isAnonymous": false,
      "isMe": true,
      "permissionId": "",
      "photoUrl": "",
      "sessionId": "0",
      "userId": ""
     },
     "user_tz": 480
    },
    "id": "FoF91pknG_YW",
    "outputId": "d255c80e-954d-4183-ca1c-c7333ce91d0a"
   },
   "outputs": [
    {
     "name": "stdout",
     "output_type": "stream",
     "text": [
      "Initialized\n",
      "\n",
      "Minibatch loss at step   0 = 10.427471\n",
      "Minibatch accuracy         = 16.4%\n",
      "Validation accuracy        = 14.8%\n",
      "\n",
      "Minibatch loss at step 500 = 1.473832\n",
      "Minibatch accuracy         = 76.6%\n",
      "Validation accuracy        = 75.8%\n",
      "\n",
      "Minibatch loss at step 1000 = 1.403615\n",
      "Minibatch accuracy         = 75.0%\n",
      "Validation accuracy        = 76.1%\n",
      "\n",
      "Minibatch loss at step 1500 = 1.180760\n",
      "Minibatch accuracy         = 78.9%\n",
      "Validation accuracy        = 77.9%\n",
      "\n",
      "Minibatch loss at step 2000 = 1.219984\n",
      "Minibatch accuracy         = 77.3%\n",
      "Validation accuracy        = 78.0%\n",
      "\n",
      "Minibatch loss at step 2500 = 0.670039\n",
      "Minibatch accuracy         = 84.4%\n",
      "Validation accuracy        = 78.6%\n",
      "\n",
      "Minibatch loss at step 3000 = 1.069927\n",
      "Minibatch accuracy         = 79.7%\n",
      "Validation accuracy        = 79.2%\n",
      "\n",
      "Test accuracy: 85.9%\n"
     ]
    }
   ],
   "source": [
    "num_steps = 3001\n",
    "\n",
    "with tf.Session(graph=graph) as session:\n",
    "\n",
    "  tf.initialize_all_variables().run()\n",
    "  print(\"Initialized\\n\")\n",
    "\n",
    "  for step in range(num_steps):\n",
    "\n",
    "    # Pick an offset within the training data, which has been randomized.\n",
    "    # Note: we could use better randomization across epochs.\n",
    "    offset = (step * batch_size) % (train_labels.shape[0] - batch_size)\n",
    "    # Generate a minibatch.\n",
    "    batch_data = train_dataset[offset:(offset + batch_size), :]\n",
    "    batch_labels = train_labels[offset:(offset + batch_size), :]\n",
    "\n",
    "    # Prepare a dictionary telling the session where to feed the minibatch.\n",
    "    # The key of the dictionary is the placeholder node of the graph to be fed,\n",
    "    # and the value is the numpy array to feed to it.\n",
    "    feed_dict = {tf_train_dataset : batch_data, tf_train_labels : batch_labels}\n",
    "\n",
    "    # _, l, predictions = session.run(\n",
    "    #   [optimizer, loss, train_prediction], feed_dict=feed_dict)\n",
    "\n",
    "    # -- átalakítás, mint fent\n",
    "\n",
    "    session.run(optimizer, feed_dict=feed_dict)\n",
    "\n",
    "    if (step % 500 == 0):\n",
    "      print(\"Minibatch loss at step %3d = %f\" % (step, loss.eval(feed_dict=feed_dict)))\n",
    "      print(\"Minibatch accuracy         = %.1f%%\" % accuracy(train_prediction.eval(feed_dict=feed_dict), batch_labels))\n",
    "      print(\"Validation accuracy        = %.1f%%\\n\" % accuracy(valid_prediction.eval(), valid_labels))\n",
    "  print(\"Test accuracy: %.1f%%\" % accuracy(test_prediction.eval(), test_labels))"
   ]
  },
  {
   "cell_type": "markdown",
   "metadata": {
    "colab_type": "text",
    "id": "7omWxtvLLxik"
   },
   "source": [
    "---\n",
    "Problem\n",
    "-------\n",
    "\n",
    "Turn the logistic regression example with SGD into a 1-hidden layer neural network with rectified linear units [nn.relu()](https://www.tensorflow.org/versions/r0.7/api_docs/python/nn.html#relu) and 1024 hidden nodes. This model should improve your validation / test accuracy.\n",
    "\n",
    "---"
   ]
  },
  {
   "cell_type": "markdown",
   "metadata": {},
   "source": [
    "Fel kell írni \"képlettel\" a diákon látható ReLU-s ábrát.\n",
    "A mátrix méretekkel, dimenziókkal elleszek itt sztem. :)"
   ]
  },
  {
   "cell_type": "code",
   "execution_count": 50,
   "metadata": {
    "collapsed": false
   },
   "outputs": [],
   "source": [
    "batch_size = 128\n",
    "hidden_level_size = 1024\n",
    "\n",
    "graph = tf.Graph()\n",
    "with graph.as_default():\n",
    "\n",
    "  # Input data. For the training data, we use a placeholder that will be fed\n",
    "  # at run time with a training minibatch.\n",
    "  tf_train_dataset = tf.placeholder(tf.float32,\n",
    "                                    shape=(batch_size, image_size * image_size))\n",
    "  tf_train_labels = tf.placeholder(tf.float32, shape=(batch_size, num_labels))\n",
    "  tf_valid_dataset = tf.constant(valid_dataset)\n",
    "  tf_test_dataset = tf.constant(test_dataset)\n",
    "  \n",
    "  # Variables.\n",
    "  w1 = tf.Variable(\n",
    "    tf.truncated_normal([image_size * image_size, hidden_level_size])) # 88,1%\n",
    "    #tf.zeros([image_size * image_size, hidden_level_size])) # hú, ez így csak 10% - miért? XXX\n",
    "    \n",
    "  # itt lehet kísérletezni azzal, hogy a zeros tensor-ban 1-2 elemet kicserélünk\n",
    "  # (akkor fent w1 helyett w1_pre kell)\n",
    "  # 1 db elem 0 helyett 1 => accuracy = 25%!\n",
    "  # 5 db elem 0 helyett 1 => accuracy = 86%!\n",
    "  #indices = [[1, 1], [5,5], [15,2], [25,80], [74,31]] # ezen a ponton...\n",
    "  #values = [1., 1., 1., 1., 1.] # ...ez legyen az értéke\n",
    "  #shape = [image_size * image_size, hidden_level_size] # ua\n",
    "  #delta = tf.SparseTensor(indices, values, shape)\n",
    "  #w1 = w1_pre + tf.sparse_tensor_to_dense(delta)\n",
    "    \n",
    "  b1 = tf.Variable(tf.zeros([hidden_level_size]))\n",
    "\n",
    "  w2 = tf.Variable(\n",
    "    tf.truncated_normal([hidden_level_size, num_labels]))\n",
    "    #tf.zeros([hidden_level_size, num_labels]))\n",
    "  b2 = tf.Variable(tf.zeros([num_labels]))\n",
    "  \n",
    "  # Training computation.\n",
    "  # XXX ennyi a tippem: matmul, relu, matmul :)\n",
    "  logits = tf.matmul(tf.nn.relu(tf.matmul(tf_train_dataset, w1) + b1), w2) + b2\n",
    "  loss = tf.reduce_mean(\n",
    "    tf.nn.softmax_cross_entropy_with_logits(logits, tf_train_labels))\n",
    "  \n",
    "  # Optimizer.\n",
    "  optimizer = tf.train.GradientDescentOptimizer(0.5).minimize(loss)\n",
    "  \n",
    "  # Predictions for the training, validation, and test data.\n",
    "  train_prediction = tf.nn.softmax(logits)\n",
    "  valid_prediction = tf.nn.softmax(tf.matmul(tf.nn.relu(tf.matmul(tf_valid_dataset, w1) + b1), w2) + b2)\n",
    "  test_prediction = tf.nn.softmax(tf.matmul(tf.nn.relu(tf.matmul(tf_test_dataset, w1) + b1), w2) + b2)"
   ]
  },
  {
   "cell_type": "code",
   "execution_count": 51,
   "metadata": {
    "collapsed": false
   },
   "outputs": [
    {
     "name": "stdout",
     "output_type": "stream",
     "text": [
      "Initialized\n",
      "\n",
      "Minibatch loss at step 0: 614.096680\n",
      "Minibatch accuracy: 57.8%\n",
      "Validation accuracy: 36.9%\n",
      "\n",
      "Minibatch loss at step 500: 1.613351\n",
      "Minibatch accuracy: 92.2%\n",
      "Validation accuracy: 81.5%\n",
      "\n",
      "Minibatch loss at step 1000: 1.826458\n",
      "Minibatch accuracy: 89.8%\n",
      "Validation accuracy: 80.5%\n",
      "\n",
      "Minibatch loss at step 1500: 3.155628\n",
      "Minibatch accuracy: 89.8%\n",
      "Validation accuracy: 80.6%\n",
      "\n",
      "Minibatch loss at step 2000: 0.441695\n",
      "Minibatch accuracy: 95.3%\n",
      "Validation accuracy: 82.1%\n",
      "\n",
      "Minibatch loss at step 2500: 0.889209\n",
      "Minibatch accuracy: 93.0%\n",
      "Validation accuracy: 82.2%\n",
      "\n",
      "Minibatch loss at step 3000: 0.655658\n",
      "Minibatch accuracy: 88.3%\n",
      "Validation accuracy: 82.1%\n",
      "\n",
      "Test accuracy: 88.9%\n"
     ]
    }
   ],
   "source": [
    "num_steps = 3001\n",
    "\n",
    "with tf.Session(graph=graph) as session:\n",
    "\n",
    "  tf.initialize_all_variables().run()\n",
    "  print(\"Initialized\\n\")\n",
    "\n",
    "  for step in range(num_steps):\n",
    "\n",
    "    # Pick an offset within the training data, which has been randomized.\n",
    "    # Note: we could use better randomization across epochs.\n",
    "    offset = (step * batch_size) % (train_labels.shape[0] - batch_size)\n",
    "    # Generate a minibatch.\n",
    "    batch_data = train_dataset[offset:(offset + batch_size), :]\n",
    "    batch_labels = train_labels[offset:(offset + batch_size), :]\n",
    "\n",
    "    # Prepare a dictionary telling the session where to feed the minibatch.\n",
    "    # The key of the dictionary is the placeholder node of the graph to be fed,\n",
    "    # and the value is the numpy array to feed to it.\n",
    "    feed_dict = {tf_train_dataset : batch_data, tf_train_labels : batch_labels}\n",
    "    \n",
    "    # _, l, predictions = session.run(\n",
    "    #   [optimizer, loss, train_prediction], feed_dict=feed_dict)\n",
    "\n",
    "    # -- átalakítás, mint fent\n",
    "    \n",
    "    session.run(optimizer, feed_dict=feed_dict)\n",
    "        \n",
    "    if (step % 500 == 0):\n",
    "      print(\"Minibatch loss at step %d: %f\" % (step, loss.eval(feed_dict=feed_dict)))\n",
    "      print(\"Minibatch accuracy: %.1f%%\" % accuracy(train_prediction.eval(feed_dict=feed_dict), batch_labels))\n",
    "      print(\"Validation accuracy: %.1f%%\\n\" % accuracy(valid_prediction.eval(), valid_labels))\n",
    "  print(\"Test accuracy: %.1f%%\" % accuracy(test_prediction.eval(), test_labels))"
   ]
  },
  {
   "cell_type": "code",
   "execution_count": null,
   "metadata": {
    "collapsed": true
   },
   "outputs": [],
   "source": []
  }
 ],
 "metadata": {
  "colab": {
   "default_view": {},
   "name": "2_fullyconnected.ipynb",
   "provenance": [],
   "version": "0.3.2",
   "views": {}
  },
  "kernelspec": {
   "display_name": "Python 2",
   "language": "python",
   "name": "python2"
  },
  "language_info": {
   "codemirror_mode": {
    "name": "ipython",
    "version": 2
   },
   "file_extension": ".py",
   "mimetype": "text/x-python",
   "name": "python",
   "nbconvert_exporter": "python",
   "pygments_lexer": "ipython2",
   "version": "2.7.9"
  }
 },
 "nbformat": 4,
 "nbformat_minor": 0
}
